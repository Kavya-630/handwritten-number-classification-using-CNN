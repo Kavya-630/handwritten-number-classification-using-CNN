{
  "nbformat": 4,
  "nbformat_minor": 0,
  "metadata": {
    "colab": {
      "provenance": []
    },
    "kernelspec": {
      "name": "python3",
      "display_name": "Python 3"
    },
    "language_info": {
      "name": "python"
    }
  },
  "cells": [
    {
      "cell_type": "markdown",
      "source": [
        "**Importing Models**"
      ],
      "metadata": {
        "id": "z-IBfACfYaKY"
      }
    },
    {
      "cell_type": "code",
      "execution_count": null,
      "metadata": {
        "id": "1QWuHW5cFYIG"
      },
      "outputs": [],
      "source": [
        "from sklearn.datasets import load_digits\n",
        "from sklearn.model_selection import train_test_split\n",
        "from sklearn.preprocessing import StandardScaler\n",
        "from sklearn.metrics import accuracy_score, precision_score, recall_score, f1_score"
      ]
    },
    {
      "cell_type": "markdown",
      "source": [
        "**Data Preparation**"
      ],
      "metadata": {
        "id": "c-ZasUHEZJ7h"
      }
    },
    {
      "cell_type": "code",
      "source": [
        "# Load dataset\n",
        "digits = load_digits()\n",
        "X, y = digits.data, digits.target\n",
        "\n",
        "# Split the dataset\n",
        "X_train, X_test, y_train, y_test = train_test_split(X, y, test_size=0.3, random_state=42, stratify=y)\n",
        "\n",
        "# Standardize features\n",
        "scaler = StandardScaler()\n",
        "X_train_scaled = scaler.fit_transform(X_train)\n",
        "X_test_scaled = scaler.transform(X_test)\n"
      ],
      "metadata": {
        "id": "3v3YNbbuYpha"
      },
      "execution_count": null,
      "outputs": []
    },
    {
      "cell_type": "markdown",
      "source": [
        "Here we are considering load_digits dataset which is also known as Optical Recognition of Handwritten Digits, it contains 1,797 sample, 64(8*8) features, 10 classes (0-9)."
      ],
      "metadata": {
        "id": "w30NJ0ENbBNS"
      }
    },
    {
      "cell_type": "markdown",
      "source": [
        "1) **Support Vector Machine (SVM)**"
      ],
      "metadata": {
        "id": "i8u22t2SZRLe"
      }
    },
    {
      "cell_type": "code",
      "source": [
        "from sklearn.svm import SVC\n",
        "\n",
        "svm_model = SVC()\n",
        "svm_model.fit(X_train_scaled, y_train)\n",
        "y_pred_svm = svm_model.predict(X_test_scaled)\n",
        "\n",
        "print(\"SVM:\")\n",
        "print(\"Accuracy:\", accuracy_score(y_test, y_pred_svm))\n",
        "print(\"Precision:\", precision_score(y_test, y_pred_svm, average='macro'))\n",
        "print(\"Recall:\", recall_score(y_test, y_pred_svm, average='macro'))\n",
        "print(\"F1 Score:\", f1_score(y_test, y_pred_svm, average='macro'))\n",
        "3"
      ],
      "metadata": {
        "colab": {
          "base_uri": "https://localhost:8080/"
        },
        "id": "Y-aYomQAZP8D",
        "outputId": "ffb46ec7-e9a9-4e5c-84e5-d6d2c5b81b91"
      },
      "execution_count": null,
      "outputs": [
        {
          "output_type": "stream",
          "name": "stdout",
          "text": [
            "SVM:\n",
            "Accuracy: 0.9833333333333333\n",
            "Precision: 0.9837950257289881\n",
            "Recall: 0.98315205758602\n",
            "F1 Score: 0.9832814731575896\n"
          ]
        },
        {
          "output_type": "execute_result",
          "data": {
            "text/plain": [
              "3"
            ]
          },
          "metadata": {},
          "execution_count": 3
        }
      ]
    },
    {
      "cell_type": "markdown",
      "source": [
        "2) **K-Nearest Neighbors (KNN)**"
      ],
      "metadata": {
        "id": "s_UfwS2zZcc2"
      }
    },
    {
      "cell_type": "code",
      "source": [
        "from sklearn.neighbors import KNeighborsClassifier\n",
        "\n",
        "knn_model = KNeighborsClassifier()\n",
        "knn_model.fit(X_train_scaled, y_train)\n",
        "y_pred_knn = knn_model.predict(X_test_scaled)\n",
        "\n",
        "print(\"KNN:\")\n",
        "print(\"Accuracy:\", accuracy_score(y_test, y_pred_knn))\n",
        "print(\"Precision:\", precision_score(y_test, y_pred_knn, average='macro'))\n",
        "print(\"Recall:\", recall_score(y_test, y_pred_knn, average='macro'))\n",
        "print(\"F1 Score:\", f1_score(y_test, y_pred_knn, average='macro'))\n"
      ],
      "metadata": {
        "colab": {
          "base_uri": "https://localhost:8080/"
        },
        "id": "UEYN6mueZZtY",
        "outputId": "debf180f-c493-43e7-b240-06a5fbf883cf"
      },
      "execution_count": null,
      "outputs": [
        {
          "output_type": "stream",
          "name": "stdout",
          "text": [
            "KNN:\n",
            "Accuracy: 0.9703703703703703\n",
            "Precision: 0.9708766076430816\n",
            "Recall: 0.9701864801864802\n",
            "F1 Score: 0.9701811521313198\n"
          ]
        }
      ]
    },
    {
      "cell_type": "markdown",
      "source": [
        "3) **Random Forest**"
      ],
      "metadata": {
        "id": "jiMkOOi9ZhIM"
      }
    },
    {
      "cell_type": "code",
      "source": [
        "from sklearn.ensemble import RandomForestClassifier\n",
        "\n",
        "rf_model = RandomForestClassifier(random_state=42)\n",
        "rf_model.fit(X_train_scaled, y_train)\n",
        "y_pred_rf = rf_model.predict(X_test_scaled)\n",
        "\n",
        "print(\"Random Forest:\")\n",
        "print(\"Accuracy:\", accuracy_score(y_test, y_pred_rf))\n",
        "print(\"Precision:\", precision_score(y_test, y_pred_rf, average='macro'))\n",
        "print(\"Recall:\", recall_score(y_test, y_pred_rf, average='macro'))\n",
        "print(\"F1 Score:\", f1_score(y_test, y_pred_rf, average='macro'))\n"
      ],
      "metadata": {
        "colab": {
          "base_uri": "https://localhost:8080/"
        },
        "id": "IyLcrMWyZete",
        "outputId": "3c687e43-91c0-47a8-b6c8-b937713e4390"
      },
      "execution_count": null,
      "outputs": [
        {
          "output_type": "stream",
          "name": "stdout",
          "text": [
            "Random Forest:\n",
            "Accuracy: 0.9685185185185186\n",
            "Precision: 0.9694497352099546\n",
            "Recall: 0.968158508158508\n",
            "F1 Score: 0.9682059832770195\n"
          ]
        }
      ]
    },
    {
      "cell_type": "markdown",
      "source": [
        "4) **Logistic Regression**"
      ],
      "metadata": {
        "id": "2xkFZ0xUZwE4"
      }
    },
    {
      "cell_type": "code",
      "source": [
        "from sklearn.linear_model import LogisticRegression\n",
        "\n",
        "lr_model = LogisticRegression(max_iter=1000)\n",
        "lr_model.fit(X_train_scaled, y_train)\n",
        "y_pred_lr = lr_model.predict(X_test_scaled)\n",
        "\n",
        "print(\"Logistic Regression:\")\n",
        "print(\"Accuracy:\", accuracy_score(y_test, y_pred_lr))\n",
        "print(\"Precision:\", precision_score(y_test, y_pred_lr, average='macro'))\n",
        "print(\"Recall:\", recall_score(y_test, y_pred_lr, average='macro'))\n",
        "print(\"F1 Score:\", f1_score(y_test, y_pred_lr, average='macro'))\n"
      ],
      "metadata": {
        "colab": {
          "base_uri": "https://localhost:8080/"
        },
        "id": "kWfUZ4HlZj9B",
        "outputId": "60bbcacb-9f63-47a5-c10f-853da38717de"
      },
      "execution_count": null,
      "outputs": [
        {
          "output_type": "stream",
          "name": "stdout",
          "text": [
            "Logistic Regression:\n",
            "Accuracy: 0.9814814814814815\n",
            "Precision: 0.9815824915824916\n",
            "Recall: 0.9814024864024862\n",
            "F1 Score: 0.9814425703985172\n"
          ]
        }
      ]
    },
    {
      "cell_type": "markdown",
      "source": [
        "5) **Deep Learning (MLP - Multi-layer Perceptron)**"
      ],
      "metadata": {
        "id": "j7piu9IVZ4Mp"
      }
    },
    {
      "cell_type": "code",
      "source": [
        "from sklearn.neural_network import MLPClassifier\n",
        "\n",
        "mlp_model = MLPClassifier(hidden_layer_sizes=(100,), max_iter=300, random_state=42)\n",
        "mlp_model.fit(X_train_scaled, y_train)\n",
        "y_pred_mlp = mlp_model.predict(X_test_scaled)\n",
        "\n",
        "print(\"MLP (Deep Learning):\")\n",
        "print(\"Accuracy:\", accuracy_score(y_test, y_pred_mlp))\n",
        "print(\"Precision:\", precision_score(y_test, y_pred_mlp, average='macro'))\n",
        "print(\"Recall:\", recall_score(y_test, y_pred_mlp, average='macro'))\n",
        "print(\"F1 Score:\", f1_score(y_test, y_pred_mlp, average='macro'))\n"
      ],
      "metadata": {
        "colab": {
          "base_uri": "https://localhost:8080/"
        },
        "id": "Q2bdovfKZ0lx",
        "outputId": "e2e79dff-1547-4cb0-d3f6-6df08fd0ce58"
      },
      "execution_count": null,
      "outputs": [
        {
          "output_type": "stream",
          "name": "stdout",
          "text": [
            "MLP (Deep Learning):\n",
            "Accuracy: 0.9796296296296296\n",
            "Precision: 0.9796625699721675\n",
            "Recall: 0.9794120694120693\n",
            "F1 Score: 0.9794721274788143\n"
          ]
        }
      ]
    },
    {
      "cell_type": "markdown",
      "source": [
        "When we take a closer look at the results, it's pretty clear that the SVM (support vector machine) model is the standout performer. It shines with the highest scores in accuracy, precision, recall, and F1 score. This just goes to show how effective it is in tackling the challenges posed by complex datasets."
      ],
      "metadata": {
        "id": "UPv2hhbDccjw"
      }
    },
    {
      "cell_type": "markdown",
      "source": [
        "\n",
        "\n",
        "---\n",
        "\n"
      ],
      "metadata": {
        "id": "HYnHoA8Pvo0K"
      }
    },
    {
      "cell_type": "markdown",
      "source": [
        "**6) CNN**"
      ],
      "metadata": {
        "id": "lNZy_htYvxQJ"
      }
    },
    {
      "cell_type": "code",
      "source": [
        "import numpy as np\n",
        "import matplotlib.pyplot as plt\n",
        "import tensorflow as tf\n",
        "from tensorflow.keras import layers, models\n",
        "from tensorflow.keras.datasets import mnist\n",
        "from tensorflow.keras.utils import to_categorical\n",
        "import cv2\n",
        "import os\n",
        "\n",
        "# Step 1: Load MNIST Data\n",
        "(x_train, y_train), (x_test, y_test) = mnist.load_data()\n",
        "\n",
        "# Step 2: Preprocess Data\n",
        "x_train = x_train.reshape((-1, 28, 28, 1)).astype(\"float32\") / 255.0\n",
        "x_test = x_test.reshape((-1, 28, 28, 1)).astype(\"float32\") / 255.0\n",
        "y_train = to_categorical(y_train, 10)\n",
        "y_test = to_categorical(y_test, 10)\n",
        "\n",
        "# Step 3: Build Model\n",
        "model = models.Sequential([\n",
        "    layers.Conv2D(32, (3, 3), activation='relu', input_shape=(28, 28, 1)),\n",
        "    layers.MaxPooling2D((2, 2)),\n",
        "    layers.Conv2D(64, (3, 3), activation='relu'),\n",
        "    layers.MaxPooling2D((2, 2)),\n",
        "    layers.Flatten(),\n",
        "    layers.Dense(64, activation='relu'),\n",
        "    layers.Dense(10, activation='softmax')\n",
        "])\n",
        "\n",
        "model.compile(optimizer='adam', loss='categorical_crossentropy', metrics=['accuracy'])\n",
        "\n",
        "# Step 4: Train Model\n",
        "model.fit(x_train, y_train, epochs=5, batch_size=64, validation_split=0.1)\n",
        "\n",
        "# Step 5: Evaluate Model\n",
        "test_loss, test_acc = model.evaluate(x_test, y_test)\n",
        "print(f\"Test accuracy: {test_acc:.4f}\")\n"
      ],
      "metadata": {
        "colab": {
          "base_uri": "https://localhost:8080/"
        },
        "id": "Fm1MENS5sTJL",
        "outputId": "74ddca56-88ad-4bf5-d2e4-5debe77645f2"
      },
      "execution_count": 9,
      "outputs": [
        {
          "output_type": "stream",
          "name": "stderr",
          "text": [
            "/usr/local/lib/python3.11/dist-packages/keras/src/layers/convolutional/base_conv.py:107: UserWarning: Do not pass an `input_shape`/`input_dim` argument to a layer. When using Sequential models, prefer using an `Input(shape)` object as the first layer in the model instead.\n",
            "  super().__init__(activity_regularizer=activity_regularizer, **kwargs)\n"
          ]
        },
        {
          "output_type": "stream",
          "name": "stdout",
          "text": [
            "Epoch 1/5\n",
            "\u001b[1m844/844\u001b[0m \u001b[32m━━━━━━━━━━━━━━━━━━━━\u001b[0m\u001b[37m\u001b[0m \u001b[1m47s\u001b[0m 53ms/step - accuracy: 0.8532 - loss: 0.4775 - val_accuracy: 0.9805 - val_loss: 0.0638\n",
            "Epoch 2/5\n",
            "\u001b[1m844/844\u001b[0m \u001b[32m━━━━━━━━━━━━━━━━━━━━\u001b[0m\u001b[37m\u001b[0m \u001b[1m86s\u001b[0m 58ms/step - accuracy: 0.9814 - loss: 0.0596 - val_accuracy: 0.9868 - val_loss: 0.0451\n",
            "Epoch 3/5\n",
            "\u001b[1m844/844\u001b[0m \u001b[32m━━━━━━━━━━━━━━━━━━━━\u001b[0m\u001b[37m\u001b[0m \u001b[1m75s\u001b[0m 50ms/step - accuracy: 0.9869 - loss: 0.0427 - val_accuracy: 0.9865 - val_loss: 0.0457\n",
            "Epoch 4/5\n",
            "\u001b[1m844/844\u001b[0m \u001b[32m━━━━━━━━━━━━━━━━━━━━\u001b[0m\u001b[37m\u001b[0m \u001b[1m84s\u001b[0m 52ms/step - accuracy: 0.9909 - loss: 0.0292 - val_accuracy: 0.9883 - val_loss: 0.0402\n",
            "Epoch 5/5\n",
            "\u001b[1m844/844\u001b[0m \u001b[32m━━━━━━━━━━━━━━━━━━━━\u001b[0m\u001b[37m\u001b[0m \u001b[1m42s\u001b[0m 50ms/step - accuracy: 0.9921 - loss: 0.0250 - val_accuracy: 0.9890 - val_loss: 0.0399\n",
            "\u001b[1m313/313\u001b[0m \u001b[32m━━━━━━━━━━━━━━━━━━━━\u001b[0m\u001b[37m\u001b[0m \u001b[1m3s\u001b[0m 9ms/step - accuracy: 0.9842 - loss: 0.0489\n",
            "Test accuracy: 0.9883\n"
          ]
        }
      ]
    },
    {
      "cell_type": "markdown",
      "source": [
        "Here we are using a CNN with two convolution layers, two max pooling layers, one flatten layer that converts 3D to 1D, one fully connected layer, and finally, one output layer."
      ],
      "metadata": {
        "id": "IFg63jgpul8_"
      }
    },
    {
      "cell_type": "code",
      "source": [
        "def preprocess_custom_image(image_path):\n",
        "    img = cv2.imread(image_path, cv2.IMREAD_GRAYSCALE)\n",
        "    img = cv2.resize(img, (28, 28))\n",
        "    img = cv2.bitwise_not(img)  # Invert colors\n",
        "    img = img.astype(\"float32\") / 255.0\n",
        "    img = img.reshape(1, 28, 28, 1)\n",
        "    return img\n",
        "\n",
        "# Example: Test with a custom image\n",
        "custom_img = preprocess_custom_image(\"/content/numbers.jpg\")  # Replace with your filename\n",
        "prediction = model.predict(custom_img)\n",
        "predicted_digit = np.argmax(prediction)\n",
        "print(\"Predicted digit:\", predicted_digit)\n",
        "\n",
        "# Optional: visualize\n",
        "plt.imshow(custom_img.reshape(28, 28), cmap='gray')\n",
        "plt.title(f\"Model Prediction: {predicted_digit}\")\n",
        "plt.axis(\"off\")\n",
        "plt.show()\n"
      ],
      "metadata": {
        "colab": {
          "base_uri": "https://localhost:8080/",
          "height": 463
        },
        "id": "Qba_qgxZpO-O",
        "outputId": "4248b987-3bd3-4b32-da7f-a69ba9e4c02a"
      },
      "execution_count": 7,
      "outputs": [
        {
          "output_type": "stream",
          "name": "stdout",
          "text": [
            "\u001b[1m1/1\u001b[0m \u001b[32m━━━━━━━━━━━━━━━━━━━━\u001b[0m\u001b[37m\u001b[0m \u001b[1m0s\u001b[0m 184ms/step\n",
            "Predicted digit: 4\n"
          ]
        },
        {
          "output_type": "display_data",
          "data": {
            "text/plain": [
              "<Figure size 640x480 with 1 Axes>"
            ],
            "image/png": "[encoded data removed]"
          },
          "metadata": {}
        }
      ]
    },
    {
      "cell_type": "markdown",
      "source": [
        "I provided the handwritten number 4, and the prediction accurately confirmed it as 4. This demonstrates the effectiveness of the recognition system!"
      ],
      "metadata": {
        "id": "MwAGVmv-sh6q"
      }
    },
    {
      "cell_type": "code",
      "source": [],
      "metadata": {
        "id": "Z7Xy0BC2r_oZ"
      },
      "execution_count": null,
      "outputs": []
    }
  ]
}